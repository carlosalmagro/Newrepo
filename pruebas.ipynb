{
 "cells": [
  {
   "cell_type": "code",
   "execution_count": 47,
   "metadata": {},
   "outputs": [
    {
     "data": {
      "text/plain": [
       "['los', 'chinos', 'nos', 'comen', 'y', 'si', 'no,', 'al', 'tiempo']"
      ]
     },
     "execution_count": 47,
     "metadata": {},
     "output_type": "execute_result"
    }
   ],
   "source": [
    "conversacion_de_bar= \"los chinos nos comen y si no, al tiempo\"\n",
    "type(conversacion_de_bar)\n",
    "list(conversacion_de_bar)\n",
    "conversacion_de_bar.split(\" \")\n",
    "\n"
   ]
  },
  {
   "cell_type": "code",
   "execution_count": 28,
   "metadata": {},
   "outputs": [
    {
     "data": {
      "text/plain": [
       "int"
      ]
     },
     "execution_count": 28,
     "metadata": {},
     "output_type": "execute_result"
    }
   ],
   "source": [
    "def largest(a,b,c):\n",
    "    if a>b:\n",
    "        if b>c:\n",
    "            return a\n",
    "        else:\n",
    "            return c\n",
    "    else:\n",
    "        if b>c:\n",
    "            return b\n",
    "        else:\n",
    "            return c\n",
    "largest(2,3,4)   \n",
    "largest(4,3,2)\n",
    "largest(2,4,3)\n",
    "largest(3,2,4)\n",
    "type(2)\n",
    "            "
   ]
  },
  {
   "cell_type": "code",
   "execution_count": 29,
   "metadata": {},
   "outputs": [
    {
     "data": {
      "text/plain": [
       "'Carlos will reach 100 years in 2080'"
      ]
     },
     "execution_count": 29,
     "metadata": {},
     "output_type": "execute_result"
    }
   ],
   "source": [
    "def centenario(name,year):\n",
    "    if type(year)!=\"int\":\n",
    "        year=int(year)\n",
    "    return name + \" will reach 100 years in \"+ str(year+100)\n",
    "                                            \n",
    "centenario('Carlos','1980')"
   ]
  },
  {
   "cell_type": "code",
   "execution_count": 55,
   "metadata": {},
   "outputs": [],
   "source": [
    "path = '/home/dsc/Newrepo/Finn.txt'\n",
    "\n",
    "\n",
    "f=open(path)\n",
    "\n",
    "\n",
    "\n",
    "def contador(texto):\n",
    "    listado=texto.split()\n",
    "    palabras=0\n",
    "    letras=0\n",
    "    for palabra in listado:\n",
    "        palabras += 1\n",
    "        for letra in palabra:\n",
    "            letras+=1\n",
    "    return palabras,letras        \n",
    "\n"
   ]
  },
  {
   "cell_type": "code",
   "execution_count": 69,
   "metadata": {},
   "outputs": [
    {
     "name": "stdout",
     "output_type": "stream",
     "text": [
      "/home/dsc/Data/opentraveldata\n",
      "total 8048\r\n",
      "drwx------ 2 dsc dsc    4096 nov 21 09:54 \u001b[0m\u001b[01;34m.\u001b[0m/\r\n",
      "drwxrwxr-x 7 dsc dsc    4096 mar 28  2019 \u001b[01;34m..\u001b[0m/\r\n",
      "-rw-rw-r-- 1 dsc dsc      77 nov 20 17:48 20lines.txt\r\n",
      "-rw-rw-r-- 1 dsc dsc      21 nov 20 18:16 numbers\r\n",
      "-rw-rw-r-- 1 dsc dsc   18612 abr  2  2018 optd_aircraft.csv\r\n",
      "-rw-rw-r-- 1 dsc dsc  107306 abr  2  2018 optd_airlines.csv\r\n",
      "-rw-rw-r-- 1 dsc dsc 8080005 abr  2  2018 optd_por_public.csv\r\n",
      "-rw-rw-r-- 1 dsc dsc    5816 abr  2  2018 ref_airline_nb_of_flights.csv\r\n",
      "-rw-rw-r-- 1 dsc dsc     256 nov 21 09:54 sql_aircraft.sql\r\n"
     ]
    }
   ],
   "source": [
    "%cd /home/dsc/Data/opentraveldata/\n",
    "%pwd\n",
    "%ls -la\n",
    "#for i in _dh:\n",
    "#    print(i)"
   ]
  }
 ],
 "metadata": {
  "kernelspec": {
   "display_name": "Python 3",
   "language": "python",
   "name": "python3"
  },
  "language_info": {
   "codemirror_mode": {
    "name": "ipython",
    "version": 3
   },
   "file_extension": ".py",
   "mimetype": "text/x-python",
   "name": "python",
   "nbconvert_exporter": "python",
   "pygments_lexer": "ipython3",
   "version": "3.7.1"
  }
 },
 "nbformat": 4,
 "nbformat_minor": 2
}
