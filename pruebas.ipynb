{
 "cells": [
  {
   "cell_type": "code",
   "execution_count": 1,
   "metadata": {},
   "outputs": [
    {
     "data": {
      "text/plain": [
       "['los', 'chinos', 'nos', 'comen', 'y', 'si', 'no,', 'al', 'tiempo']"
      ]
     },
     "execution_count": 1,
     "metadata": {},
     "output_type": "execute_result"
    }
   ],
   "source": [
    "conversacion_de_bar= \"los chinos nos comen y si no, al tiempo\"\n",
    "type(conversacion_de_bar)\n",
    "list(conversacion_de_bar)\n",
    "conversacion_de_bar.split(\" \")\n",
    "\n"
   ]
  },
  {
   "cell_type": "code",
   "execution_count": 2,
   "metadata": {},
   "outputs": [
    {
     "data": {
      "text/plain": [
       "int"
      ]
     },
     "execution_count": 2,
     "metadata": {},
     "output_type": "execute_result"
    }
   ],
   "source": [
    "def largest(a,b,c):\n",
    "    if a>b:\n",
    "        if b>c:\n",
    "            return a\n",
    "        else:\n",
    "            return c\n",
    "    else:\n",
    "        if b>c:\n",
    "            return b\n",
    "        else:\n",
    "            return c\n",
    "largest(2,3,4)   \n",
    "largest(4,3,2)\n",
    "largest(2,4,3)\n",
    "largest(3,2,4)\n",
    "type(2)\n",
    "            "
   ]
  },
  {
   "cell_type": "code",
   "execution_count": 3,
   "metadata": {},
   "outputs": [
    {
     "data": {
      "text/plain": [
       "'Carlos will reach 100 years in 2080'"
      ]
     },
     "execution_count": 3,
     "metadata": {},
     "output_type": "execute_result"
    }
   ],
   "source": [
    "def centenario(name,year):\n",
    "    if type(year)!=\"int\":\n",
    "        year=int(year)\n",
    "    return name + \" will reach 100 years in \"+ str(year+100)\n",
    "                                            \n",
    "centenario('Carlos','1980')"
   ]
  },
  {
   "cell_type": "code",
   "execution_count": 13,
   "metadata": {},
   "outputs": [
    {
     "ename": "AttributeError",
     "evalue": "'_io.TextIOWrapper' object has no attribute 'split'",
     "output_type": "error",
     "traceback": [
      "\u001b[0;31m---------------------------------------------------------------------------\u001b[0m",
      "\u001b[0;31mAttributeError\u001b[0m                            Traceback (most recent call last)",
      "\u001b[0;32m<ipython-input-13-8239dc280fca>\u001b[0m in \u001b[0;36m<module>\u001b[0;34m\u001b[0m\n\u001b[1;32m     17\u001b[0m             \u001b[0mletras\u001b[0m\u001b[0;34m+=\u001b[0m\u001b[0;36m1\u001b[0m\u001b[0;34m\u001b[0m\u001b[0;34m\u001b[0m\u001b[0m\n\u001b[1;32m     18\u001b[0m     \u001b[0;32mreturn\u001b[0m \u001b[0mpalabras\u001b[0m\u001b[0;34m,\u001b[0m\u001b[0mletras\u001b[0m\u001b[0;34m\u001b[0m\u001b[0;34m\u001b[0m\u001b[0m\n\u001b[0;32m---> 19\u001b[0;31m \u001b[0mcontador\u001b[0m\u001b[0;34m(\u001b[0m\u001b[0mf\u001b[0m\u001b[0;34m)\u001b[0m\u001b[0;34m\u001b[0m\u001b[0;34m\u001b[0m\u001b[0m\n\u001b[0m",
      "\u001b[0;32m<ipython-input-13-8239dc280fca>\u001b[0m in \u001b[0;36mcontador\u001b[0;34m(texto)\u001b[0m\n\u001b[1;32m      7\u001b[0m \u001b[0;34m\u001b[0m\u001b[0m\n\u001b[1;32m      8\u001b[0m \u001b[0;32mdef\u001b[0m \u001b[0mcontador\u001b[0m\u001b[0;34m(\u001b[0m\u001b[0mtexto\u001b[0m\u001b[0;34m)\u001b[0m\u001b[0;34m:\u001b[0m\u001b[0;34m\u001b[0m\u001b[0;34m\u001b[0m\u001b[0m\n\u001b[0;32m----> 9\u001b[0;31m     \u001b[0mlistado\u001b[0m\u001b[0;34m=\u001b[0m\u001b[0mtexto\u001b[0m\u001b[0;34m.\u001b[0m\u001b[0msplit\u001b[0m\u001b[0;34m(\u001b[0m\u001b[0;34m\" \"\u001b[0m\u001b[0;34m)\u001b[0m\u001b[0;34m\u001b[0m\u001b[0;34m\u001b[0m\u001b[0m\n\u001b[0m\u001b[1;32m     10\u001b[0m     \u001b[0mpalabras\u001b[0m\u001b[0;34m=\u001b[0m\u001b[0;36m0\u001b[0m\u001b[0;34m\u001b[0m\u001b[0;34m\u001b[0m\u001b[0m\n\u001b[1;32m     11\u001b[0m     \u001b[0mletras\u001b[0m\u001b[0;34m=\u001b[0m\u001b[0;36m0\u001b[0m\u001b[0;34m\u001b[0m\u001b[0;34m\u001b[0m\u001b[0m\n",
      "\u001b[0;31mAttributeError\u001b[0m: '_io.TextIOWrapper' object has no attribute 'split'"
     ]
    }
   ],
   "source": [
    "path = '/home/dsc/Newrepo/Finn.txt'\n",
    "\n",
    "\n",
    "f=open(path)\n",
    "\n",
    "\n",
    "\n",
    "def contador(texto):\n",
    "    listado=texto.split(\" \")\n",
    "    palabras=0\n",
    "    letras=0\n",
    "    lineas=0\n",
    "\n",
    "    for palabra in listado:\n",
    "        palabras += 1\n",
    "        for letra in palabra:\n",
    "            letras+=1\n",
    "    return palabras,letras        \n",
    "contador(f)\n"
   ]
  },
  {
   "cell_type": "code",
   "execution_count": 12,
   "metadata": {},
   "outputs": [
    {
     "data": {
      "text/plain": [
       "(39, 9, 1)"
      ]
     },
     "execution_count": 12,
     "metadata": {},
     "output_type": "execute_result"
    }
   ],
   "source": [
    "def wc(x):\n",
    "    chars=0\n",
    "    for char in x:\n",
    "        chars+=1\n",
    "    words=len(x.split(\" \"))\n",
    "    lines=len(x.split(\"\\n\"))\n",
    "    return chars,words,lines\n",
    "wc(conversacion_de_bar)"
   ]
  },
  {
   "cell_type": "code",
   "execution_count": 22,
   "metadata": {},
   "outputs": [
    {
     "name": "stdout",
     "output_type": "stream",
     "text": [
      "/home/dsc/Data/opentraveldata\n",
      "['6']\n",
      "['8']\n"
     ]
    }
   ],
   "source": [
    "%cd /home/dsc/Data/opentraveldata/\n",
    "%pwd\n",
    "\n",
    "\n",
    "for i in _dh:\n",
    "    wc=!ls -l $i | wc -l\n",
    "    print(wc)"
   ]
  },
  {
   "cell_type": "code",
   "execution_count": 26,
   "metadata": {},
   "outputs": [
    {
     "data": {
      "text/plain": [
       "1855"
      ]
     },
     "execution_count": 26,
     "metadata": {},
     "output_type": "execute_result"
    }
   ],
   "source": [
    "path='/home/dsc/Newrepo/Finn.txt'\n",
    "\n",
    "g=open(path)\n",
    "\n",
    "def finder(texto,patron):\n",
    "    listado=list(texto)\n",
    "    cuenta=0\n",
    "    for palabra in listado:\n",
    "        if patron in palabra:\n",
    "            cuenta+=1\n",
    "    return cuenta\n",
    "finder (g,'was')"
   ]
  },
  {
   "cell_type": "code",
   "execution_count": 39,
   "metadata": {},
   "outputs": [
    {
     "name": "stdout",
     "output_type": "stream",
     "text": [
      "/home/dsc/Newrepo\n",
      "12363\n",
      "12363 Finn.txt\r\n"
     ]
    }
   ],
   "source": [
    "path='/home/dsc/Newrepo/Finn.txt'\n",
    "\n",
    "g=open(path)\n",
    "\n",
    "lines=[]\n",
    "for line in g:\n",
    "    lines.append(line)\n",
    "num_lineas=len(lines)\n",
    "%cd /home/dsc/Newrepo/\n",
    "print(num_lineas)\n",
    "!wc -l Finn.txt\n",
    "\n",
    "lines_no_eol=[]\n",
    "\n",
    "for line in lines:\n",
    "    lines_no_eol.append(line.rstrip())\n",
    "len(lines_no_eol)\n",
    "\n",
    "f_out=open(\"Finn_no_eol.txt\",'w')\n",
    "\n",
    "for line in lines_no_eol:\n",
    "    f_out.writelines(line)\n",
    "f_out.close()"
   ]
  }
 ],
 "metadata": {
  "kernelspec": {
   "display_name": "Python 3",
   "language": "python",
   "name": "python3"
  },
  "language_info": {
   "codemirror_mode": {
    "name": "ipython",
    "version": 3
   },
   "file_extension": ".py",
   "mimetype": "text/x-python",
   "name": "python",
   "nbconvert_exporter": "python",
   "pygments_lexer": "ipython3",
   "version": "3.7.1"
  }
 },
 "nbformat": 4,
 "nbformat_minor": 2
}
